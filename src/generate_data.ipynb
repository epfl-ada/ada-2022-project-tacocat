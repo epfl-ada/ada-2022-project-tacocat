{
 "cells": [
  {
   "cell_type": "code",
   "execution_count": 1,
   "metadata": {},
   "outputs": [],
   "source": [
    "import pandas as pd\n",
    "import numpy as np"
   ]
  },
  {
   "cell_type": "code",
   "execution_count": 2,
   "metadata": {},
   "outputs": [],
   "source": [
    "from utils.freebase import *\n",
    "from utils.data_initial import *\n",
    "from utils.data_generated import *"
   ]
  },
  {
   "cell_type": "markdown",
   "metadata": {},
   "source": [
    "# Ethnicity values"
   ]
  },
  {
   "cell_type": "code",
   "execution_count": 3,
   "metadata": {},
   "outputs": [],
   "source": [
    "df = load_cmu_character_metadata()"
   ]
  },
  {
   "cell_type": "code",
   "execution_count": 4,
   "metadata": {},
   "outputs": [],
   "source": [
    "etnicities = list(df.actor_ethnicity.dropna().unique())"
   ]
  },
  {
   "cell_type": "code",
   "execution_count": 5,
   "metadata": {},
   "outputs": [
    {
     "name": "stdout",
     "output_type": "stream",
     "text": [
      "weird result for /m/019kn7\n",
      "[{'s': {'type': 'uri', 'value': 'http://www.wikidata.org/entity/Q161652'}, 'sLabel': {'xml:lang': 'en', 'type': 'literal', 'value': 'Japanese people'}}, {'s': {'type': 'uri', 'value': 'http://www.wikidata.org/entity/Q31340083'}, 'sLabel': {'type': 'literal', 'value': 'Q31340083'}}]\n",
      "\n",
      "weird result for /m/0j6x8\n",
      "[{'s': {'type': 'uri', 'value': 'http://www.wikidata.org/entity/Q170355'}, 'sLabel': {'xml:lang': 'en', 'type': 'literal', 'value': 'Indigenous Australians'}}, {'s': {'type': 'uri', 'value': 'http://www.wikidata.org/entity/Q12060728'}, 'sLabel': {'xml:lang': 'en', 'type': 'literal', 'value': 'Aboriginal Australians'}}]\n",
      "\n",
      "weird result for /m/062_25\n",
      "[{'s': {'type': 'uri', 'value': 'http://www.wikidata.org/entity/Q1065371'}, 'sLabel': {'xml:lang': 'en', 'type': 'literal', 'value': 'Italian Brazilians'}}, {'s': {'type': 'uri', 'value': 'http://www.wikidata.org/entity/Q54864438'}, 'sLabel': {'type': 'literal', 'value': 'Q54864438'}}]\n",
      "\n",
      "weird result for /m/0640_7q\n",
      "[{'s': {'type': 'uri', 'value': 'http://www.wikidata.org/entity/Q2672654'}, 'sLabel': {'xml:lang': 'en', 'type': 'literal', 'value': 'History of the Jews in Morocco'}}, {'s': {'type': 'uri', 'value': 'http://www.wikidata.org/entity/Q16152214'}, 'sLabel': {'xml:lang': 'en', 'type': 'literal', 'value': 'Moroccan Jews'}}]\n",
      "\n",
      "weird result for /m/0180zw\n",
      "[{'s': {'type': 'uri', 'value': 'http://www.wikidata.org/entity/Q203178'}, 'sLabel': {'xml:lang': 'en', 'type': 'literal', 'value': 'Kikuyu'}}, {'s': {'type': 'uri', 'value': 'http://www.wikidata.org/entity/Q25467191'}, 'sLabel': {'type': 'literal', 'value': 'Q25467191'}}]\n",
      "\n",
      "weird result for /m/09snp5\n",
      "[{'s': {'type': 'uri', 'value': 'http://www.wikidata.org/entity/Q12644212'}, 'sLabel': {'xml:lang': 'en', 'type': 'literal', 'value': 'Muhajir'}}, {'s': {'type': 'uri', 'value': 'http://www.wikidata.org/entity/Q19891823'}, 'sLabel': {'xml:lang': 'en', 'type': 'literal', 'value': 'Muhajir diaspora'}}]\n",
      "\n",
      "weird result for /m/03x1x\n",
      "[{'s': {'type': 'uri', 'value': 'http://www.wikidata.org/entity/Q68518'}, 'sLabel': {'xml:lang': 'en', 'type': 'literal', 'value': 'Haudenosaunee Confederacy'}}, {'s': {'type': 'uri', 'value': 'http://www.wikidata.org/entity/Q56408633'}, 'sLabel': {'type': 'literal', 'value': 'Q56408633'}}, {'s': {'type': 'uri', 'value': 'http://www.wikidata.org/entity/Q97377726'}, 'sLabel': {'type': 'literal', 'value': 'Q97377726'}}]\n",
      "\n",
      "weird result for /m/06bkf\n",
      "[{'s': {'type': 'uri', 'value': 'http://www.wikidata.org/entity/Q245507'}, 'sLabel': {'xml:lang': 'en', 'type': 'literal', 'value': 'Quebeckers'}}, {'s': {'type': 'uri', 'value': 'http://www.wikidata.org/entity/Q7273097'}, 'sLabel': {'xml:lang': 'en', 'type': 'literal', 'value': 'Québécois'}}]\n",
      "\n"
     ]
    }
   ],
   "source": [
    "mappings = {}\n",
    "not_found = []\n",
    "for etn in etnicities:\n",
    "    val = query_freebase_id_from_wikidata(etn)\n",
    "    if val == None:\n",
    "        not_found.append(etn)\n",
    "    else:\n",
    "        mappings[etn] = val"
   ]
  },
  {
   "cell_type": "code",
   "execution_count": 6,
   "metadata": {},
   "outputs": [],
   "source": [
    "# manually correct the mappings that were under an unexpected format\n",
    "mappings['/m/019kn7'] = 'Japanese'\n",
    "mappings['/m/0j6x8'] = 'Aboriginal Australians'\n",
    "mappings['/m/062_25'] = 'Italian Brazilians'\n",
    "mappings['/m/0640_7q'] = 'Moroccan Jews'\n",
    "mappings['/m/0180zw'] = 'Kikuyu'\n",
    "mappings['/m/09snp5'] = 'Muhajir'\n",
    "mappings['/m/03x1x'] = 'Haudenosaunee Confederacy'\n",
    "mappings['/m/06bkf'] = 'Quebeckers'"
   ]
  },
  {
   "cell_type": "code",
   "execution_count": 7,
   "metadata": {},
   "outputs": [],
   "source": [
    "# create dataframe\n",
    "# set mappings for ids without values to NaN\n",
    "mappings.update({id: np.NaN for id in not_found})\n",
    "\n",
    "df = pd.DataFrame(data=mappings.items(), index=range(0,len(mappings)), columns=['freebase_id', 'ethnicity'])"
   ]
  },
  {
   "cell_type": "code",
   "execution_count": 8,
   "metadata": {},
   "outputs": [],
   "source": [
    "# save dataframe\n",
    "df.to_pickle(PATH_DATA_GEN + FILENAME_ETHNICITIES)"
   ]
  }
 ],
 "metadata": {
  "kernelspec": {
   "display_name": "Python 3.9.13 ('ada')",
   "language": "python",
   "name": "python3"
  },
  "language_info": {
   "codemirror_mode": {
    "name": "ipython",
    "version": 3
   },
   "file_extension": ".py",
   "mimetype": "text/x-python",
   "name": "python",
   "nbconvert_exporter": "python",
   "pygments_lexer": "ipython3",
   "version": "3.9.13"
  },
  "orig_nbformat": 4,
  "vscode": {
   "interpreter": {
    "hash": "8c6cef80ec7ac07085289c0e535b0128511f0c650ea74f2505e21f6e10b0a204"
   }
  }
 },
 "nbformat": 4,
 "nbformat_minor": 2
}
